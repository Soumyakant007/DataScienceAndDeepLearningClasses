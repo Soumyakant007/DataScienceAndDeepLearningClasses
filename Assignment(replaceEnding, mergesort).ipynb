{
 "cells": [
  {
   "cell_type": "markdown",
   "id": "dfbbcdba",
   "metadata": {},
   "source": [
    "# Assignment 3"
   ]
  },
  {
   "cell_type": "markdown",
   "id": "735be4cd",
   "metadata": {},
   "source": [
    "### Create a function replaces the old string in a sentence with the new string, but only if the sentence ends with the old string"
   ]
  },
  {
   "cell_type": "code",
   "execution_count": 63,
   "id": "8d54d867",
   "metadata": {},
   "outputs": [
    {
     "name": "stdout",
     "output_type": "stream",
     "text": [
      "Enter a string: The weather is nice in May\n",
      "Enter another string to replace: may\n",
      "Enter the new string: april\n",
      "The weather is nice in May\n"
     ]
    }
   ],
   "source": [
    "def replaceString(strg,old,new):\n",
    "    old_len=-len(old)\n",
    "    rev_sub=strg[-1:old_len-1:-1]\n",
    "    req_str=rev_sub[::-1]\n",
    "    if old==req_str:\n",
    "        return strg[:len(strg)-len(req_str)]+new\n",
    "    else:\n",
    "        return 0\n",
    "    \n",
    "strg=input(\"Enter a string: \")\n",
    "old=input(\"Enter another string to replace: \")\n",
    "new=input(\"Enter the new string: \")\n",
    "news=replaceString(strg,old,new)\n",
    "if news:\n",
    "    print(news)\n",
    "else:\n",
    "    print(strg)"
   ]
  },
  {
   "cell_type": "markdown",
   "id": "1c4144b9",
   "metadata": {},
   "source": [
    "## Merge Sort"
   ]
  },
  {
   "cell_type": "code",
   "execution_count": 52,
   "id": "a1237f7c",
   "metadata": {},
   "outputs": [
    {
     "name": "stdout",
     "output_type": "stream",
     "text": [
      "Sorted array is: [5, 6, 7, 11, 12, 13]\n"
     ]
    }
   ],
   "source": [
    "def merge_sort(arr):\n",
    "    if len(arr) <= 1:\n",
    "        return arr\n",
    "    mid = len(arr) // 2\n",
    "    left = arr[:mid]\n",
    "    right = arr[mid:]\n",
    "\n",
    "    left_s = merge_sort(left)\n",
    "    right_s = merge_sort(right)\n",
    "\n",
    "    return merge(left_s, right_s)\n",
    "\n",
    "def merge(left, right):\n",
    "    merged = []\n",
    "    l, r = 0, 0\n",
    "\n",
    "    while l < len(left) and r < len(right):\n",
    "        if left[l] < right[r]:\n",
    "            merged.append(left[l])\n",
    "            l += 1\n",
    "        else:\n",
    "            merged.append(right[r])\n",
    "            r += 1\n",
    "\n",
    "    while l < len(left):\n",
    "        merged.append(left[l])\n",
    "        l += 1\n",
    "\n",
    "    while r < len(right):\n",
    "        merged.append(right[r])\n",
    "        r += 1\n",
    "\n",
    "    return merged\n",
    "\n",
    "arr = [12, 11, 13, 5, 6, 7]\n",
    "sorted_arr = merge_sort(arr)\n",
    "print(\"Sorted array is:\", sorted_arr)\n"
   ]
  },
  {
   "cell_type": "code",
   "execution_count": 60,
   "id": "f322fd6e",
   "metadata": {},
   "outputs": [
    {
     "name": "stdout",
     "output_type": "stream",
     "text": [
      "not\n"
     ]
    }
   ],
   "source": [
    "st=\"  not  \"\n",
    "print(st.strip())"
   ]
  },
  {
   "cell_type": "code",
   "execution_count": null,
   "id": "46508040",
   "metadata": {},
   "outputs": [],
   "source": []
  }
 ],
 "metadata": {
  "kernelspec": {
   "display_name": "Python 3 (ipykernel)",
   "language": "python",
   "name": "python3"
  },
  "language_info": {
   "codemirror_mode": {
    "name": "ipython",
    "version": 3
   },
   "file_extension": ".py",
   "mimetype": "text/x-python",
   "name": "python",
   "nbconvert_exporter": "python",
   "pygments_lexer": "ipython3",
   "version": "3.11.5"
  }
 },
 "nbformat": 4,
 "nbformat_minor": 5
}
