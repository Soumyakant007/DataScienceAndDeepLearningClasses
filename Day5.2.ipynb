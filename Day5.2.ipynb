{
 "cells": [
  {
   "cell_type": "markdown",
   "id": "945fce3e",
   "metadata": {},
   "source": [
    "# Scikitlearn_classify multiple categories"
   ]
  },
  {
   "cell_type": "code",
   "execution_count": 16,
   "id": "86c52518",
   "metadata": {},
   "outputs": [],
   "source": [
    "import numpy as np\n",
    "from sklearn.pipeline import Pipeline\n",
    "from sklearn.feature_extraction.text import CountVectorizer\n",
    "from sklearn.svm import LinearSVC\n",
    "from sklearn.feature_extraction.text import TfidfTransformer\n",
    "from sklearn.multiclass import OneVsRestClassifier\n",
    "from sklearn.preprocessing import MultiLabelBinarizer\n",
    "\n",
    "X_train = np.array([\n",
    "    \"new york us a hell of a town\",\n",
    "    \"new york was originally dutch\",\n",
    "    \"the big apple is great\",\n",
    "    \"new york is also called the big apple\",\n",
    "    \"nyc is nice\",\n",
    "    \"people abbreviate new york city as nyc\",\n",
    "    \"the capital of the great britain is London\",\n",
    "    \"london is in the UK\",\n",
    "    \"london is in england\",\n",
    "    \"london is in great britain\",\n",
    "    \"it rains a lot in london\",\n",
    "    \"london hosts the british museum\",\n",
    "    \"new york is great and so is london\",\n",
    "    \"i like london better than new york\"\n",
    "])\n",
    "\n",
    "y_train_text=[\n",
    "    [\"new york\"], [\"new york\"], [\"new york\"], [\"new york\"], [\"new york\"], [\"new york\"],\n",
    "    [\"london\"], [\"london\"], [\"london\"], [\"london\"], [\"london\"], [\"london\"], [\"new york\", \"london\"], [\"new york\", \"london\"]\n",
    "]\n",
    "\n",
    "X_text = np.array([\n",
    "    'nice day in nyc',\n",
    "    'welcome to london',\n",
    "    'london is rainy',\n",
    "    'it is raining in britain',\n",
    "    'hello welcome to new york enjoyed here and london too'\n",
    "])\n",
    "\n",
    "classifier.fit(X_train, Y)\n",
    "\n",
    "# Predict on the test data\n",
    "predicted = classifier.predict(X_text)\n",
    "\n",
    "# Inverse transform the predicted labels to original format\n",
    "all_labels = mlb.inverse_transform(predicted)"
   ]
  },
  {
   "cell_type": "code",
   "execution_count": 17,
   "id": "636b96fc",
   "metadata": {},
   "outputs": [
    {
     "name": "stdout",
     "output_type": "stream",
     "text": [
      "[[0 1]\n",
      " [1 0]\n",
      " [1 0]\n",
      " [1 0]\n",
      " [1 1]]\n"
     ]
    }
   ],
   "source": [
    "print(predicted)"
   ]
  },
  {
   "cell_type": "code",
   "execution_count": 18,
   "id": "d4f36f03",
   "metadata": {},
   "outputs": [
    {
     "name": "stdout",
     "output_type": "stream",
     "text": [
      "nice day is nyc\n",
      "welcome to london\n",
      "london is rainy\n",
      "it is raining in britain\n",
      "it is raining in britain and the big apple\n",
      "it is raining in britain and nyc\n",
      "hello welcome to new york, enjoy it here and london too\n",
      "New York and London\n",
      "big apple and britain\n",
      "nyc and britain\n",
      "nyc\n",
      "big apple\n",
      "britain\n",
      "great\n"
     ]
    }
   ],
   "source": [
    "for i in X_test:\n",
    "    print(i)"
   ]
  },
  {
   "cell_type": "code",
   "execution_count": 19,
   "id": "c3d910c7",
   "metadata": {},
   "outputs": [
    {
     "name": "stdout",
     "output_type": "stream",
     "text": [
      "[('new york',), ('london',), ('london',), ('london',), ('london', 'new york')]\n"
     ]
    }
   ],
   "source": [
    "print(all_labels)"
   ]
  },
  {
   "cell_type": "code",
   "execution_count": 20,
   "id": "75b37b4e",
   "metadata": {},
   "outputs": [
    {
     "name": "stdout",
     "output_type": "stream",
     "text": [
      "nice day is nyc => ('new york',)\n",
      "welcome to london => ('london',)\n",
      "london is rainy => ('london',)\n",
      "it is raining in britain => ('london',)\n",
      "it is raining in britain and the big apple => ('london', 'new york')\n"
     ]
    }
   ],
   "source": [
    "for item,labels in zip(X_test,all_labels):\n",
    "    print(item,\"=>\",labels)"
   ]
  },
  {
   "cell_type": "markdown",
   "id": "6134cf37",
   "metadata": {},
   "source": [
    "# Summary\n",
    "\n",
    "Here we learned about nlp, lemmas, lemmatizer, applying nlp using nltk and wordnet, finding out antonyms and synonyms. creating an ML program to implement nlp in SVM to predict if the sentence is talking about the given keywords or not."
   ]
  }
 ],
 "metadata": {
  "kernelspec": {
   "display_name": "Python 3 (ipykernel)",
   "language": "python",
   "name": "python3"
  },
  "language_info": {
   "codemirror_mode": {
    "name": "ipython",
    "version": 3
   },
   "file_extension": ".py",
   "mimetype": "text/x-python",
   "name": "python",
   "nbconvert_exporter": "python",
   "pygments_lexer": "ipython3",
   "version": "3.11.4"
  }
 },
 "nbformat": 4,
 "nbformat_minor": 5
}
