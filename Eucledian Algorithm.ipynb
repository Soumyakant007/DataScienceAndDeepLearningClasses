{
 "cells": [
  {
   "cell_type": "markdown",
   "id": "c101b509",
   "metadata": {},
   "source": [
    "# Eucledian Distance"
   ]
  },
  {
   "cell_type": "code",
   "execution_count": 1,
   "id": "4af547aa",
   "metadata": {},
   "outputs": [
    {
     "name": "stdout",
     "output_type": "stream",
     "text": [
      "Enter the first coordinate:(12,32)\n",
      "Enter the second coordinate:(32,12)\n",
      "28.284271247461902\n"
     ]
    }
   ],
   "source": [
    "x1,y1=eval(input(\"Enter the first coordinate:\"))\n",
    "x2,y2=eval(input(\"Enter the second coordinate:\"))\n",
    "distance=(((x2-x1)**2)+((y2-y1)**2))**0.5\n",
    "print(distance)"
   ]
  },
  {
   "cell_type": "markdown",
   "id": "45f896f1",
   "metadata": {},
   "source": [
    "# Eucledian Algorithm"
   ]
  },
  {
   "cell_type": "code",
   "execution_count": 2,
   "id": "20512c34",
   "metadata": {},
   "outputs": [
    {
     "data": {
      "text/plain": [
       "4"
      ]
     },
     "execution_count": 2,
     "metadata": {},
     "output_type": "execute_result"
    }
   ],
   "source": [
    "def gcd(x,y):\n",
    "    if x==0:\n",
    "        return y\n",
    "    else:\n",
    "        return gcd(y%x,x)\n",
    "gcd(8,12)    "
   ]
  }
 ],
 "metadata": {
  "kernelspec": {
   "display_name": "Python 3 (ipykernel)",
   "language": "python",
   "name": "python3"
  },
  "language_info": {
   "codemirror_mode": {
    "name": "ipython",
    "version": 3
   },
   "file_extension": ".py",
   "mimetype": "text/x-python",
   "name": "python",
   "nbconvert_exporter": "python",
   "pygments_lexer": "ipython3",
   "version": "3.11.5"
  }
 },
 "nbformat": 4,
 "nbformat_minor": 5
}
