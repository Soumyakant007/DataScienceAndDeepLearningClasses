{
 "cells": [
  {
   "cell_type": "markdown",
   "id": "be95b8e0",
   "metadata": {},
   "source": [
    "### Mean\n",
    "\n",
    "#### Ungrouped : x̄= (x1+ x2 + x3+....+xn)/n\n",
    "\n",
    "#### Grouped: x̄= Σfx/n"
   ]
  },
  {
   "cell_type": "markdown",
   "id": "20223ab2",
   "metadata": {},
   "source": [
    "### Median\n",
    "\n",
    "#### Ungrouped data:\n",
    "        \n",
    "        if 'n' is odd =  ((n+1)/2)th term\n",
    "        \n",
    "        if 'n' is even = ((n/2)th +(n/2 +1)th)/2\n",
    "        \n",
    "#### Grouped data:\n",
    "        \n",
    "        if 'n' "
   ]
  },
  {
   "cell_type": "markdown",
   "id": "6e1b1fd5",
   "metadata": {},
   "source": [
    "### Mode:\n",
    "\n",
    "#### Ungrouped data:\n",
    "    Most common value\n",
    "\n",
    "#### Grouped data:\n",
    "    L+h((Fm-F1)/(Fm-F1)+(Fm-F2))"
   ]
  },
  {
   "cell_type": "markdown",
   "id": "e2f3ac70",
   "metadata": {},
   "source": [
    "## IQR\n",
    "\n",
    "The interquartile range is the third quartile(Q3) minus the first quartile(Q1)\n",
    "\n",
    "This gives us the range of the middle half of a dataset. The IQR gives a consistent measure of variability for skewed as well as normal distribution\n",
    "\n",
    "Every distribution can be organized using :\n",
    "- Q1\n",
    "- Median\n",
    "- Q3"
   ]
  },
  {
   "cell_type": "markdown",
   "id": "c00efc3a",
   "metadata": {},
   "source": [
    "### SD\n",
    "\n",
    "σ=((Σ(X-u)^2)/N)^0.5"
   ]
  },
  {
   "cell_type": "markdown",
   "id": "8a10160b",
   "metadata": {},
   "source": [
    "### Variance\n",
    "\n",
    "Variance is the average squared deviation from mean\n",
    "\n",
    "σ2=Σ(X-u)^2/N"
   ]
  },
  {
   "cell_type": "code",
   "execution_count": null,
   "id": "5186d5a0",
   "metadata": {},
   "outputs": [],
   "source": []
  }
 ],
 "metadata": {
  "kernelspec": {
   "display_name": "Python 3 (ipykernel)",
   "language": "python",
   "name": "python3"
  },
  "language_info": {
   "codemirror_mode": {
    "name": "ipython",
    "version": 3
   },
   "file_extension": ".py",
   "mimetype": "text/x-python",
   "name": "python",
   "nbconvert_exporter": "python",
   "pygments_lexer": "ipython3",
   "version": "3.11.5"
  }
 },
 "nbformat": 4,
 "nbformat_minor": 5
}
