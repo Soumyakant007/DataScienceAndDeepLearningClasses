{
 "cells": [
  {
   "cell_type": "code",
   "execution_count": 1,
   "id": "92241693",
   "metadata": {},
   "outputs": [
    {
     "name": "stdout",
     "output_type": "stream",
     "text": [
      "Hello world\n"
     ]
    }
   ],
   "source": [
    "print(\"Hello world\")"
   ]
  },
  {
   "cell_type": "code",
   "execution_count": 1,
   "id": "7be682c0",
   "metadata": {},
   "outputs": [],
   "source": [
    "age=45\n"
   ]
  },
  {
   "cell_type": "code",
   "execution_count": 3,
   "id": "efe17fd2",
   "metadata": {},
   "outputs": [
    {
     "name": "stdout",
     "output_type": "stream",
     "text": [
      "you have 20 years until retirement\n"
     ]
    }
   ],
   "source": [
    "print(\"you have\",65-age,\"years until retirement\")"
   ]
  },
  {
   "cell_type": "code",
   "execution_count": 17,
   "id": "7dfc0a65",
   "metadata": {},
   "outputs": [
    {
     "name": "stdout",
     "output_type": "stream",
     "text": [
      "B string\n",
      "A string\n"
     ]
    }
   ],
   "source": [
    "a=\"A string\"\n",
    "b=\"B string\"\n",
    "\"\"\"a=45\n",
    "b=35\"\"\"\n",
    "\"\"\"b=a+b\n",
    "a=b-a\n",
    "b=b-a\"\"\"\n",
    "a,b=b,a\n",
    "print(a)\n",
    "print(b)"
   ]
  },
  {
   "cell_type": "code",
   "execution_count": 7,
   "id": "ba8e2191",
   "metadata": {},
   "outputs": [
    {
     "name": "stdout",
     "output_type": "stream",
     "text": [
      "A string\n",
      "A string\n"
     ]
    }
   ],
   "source": [
    "print(\"A string\")\n",
    "print(\"A string\")"
   ]
  },
  {
   "cell_type": "code",
   "execution_count": 20,
   "id": "aa3b1cc4",
   "metadata": {},
   "outputs": [
    {
     "name": "stdout",
     "output_type": "stream",
     "text": [
      "<class 'float'>\n",
      "<class 'str'>\n",
      "<class 'int'>\n"
     ]
    }
   ],
   "source": [
    "pi=3.1415\n",
    "mess=\"Hello\"\n",
    "i=2+2\n",
    "print(type(pi))\n",
    "print(type(mess))\n",
    "print(type(i))"
   ]
  },
  {
   "cell_type": "code",
   "execution_count": 21,
   "id": "b0ccd5d0",
   "metadata": {},
   "outputs": [
    {
     "name": "stdout",
     "output_type": "stream",
     "text": [
      "hello\n"
     ]
    }
   ],
   "source": [
    "Sal=input()"
   ]
  },
  {
   "cell_type": "code",
   "execution_count": 22,
   "id": "0ff8ff1e",
   "metadata": {},
   "outputs": [
    {
     "name": "stdout",
     "output_type": "stream",
     "text": [
      "24\n",
      "168\n"
     ]
    }
   ],
   "source": [
    "Age=int(input())\n",
    "height=float(input())"
   ]
  },
  {
   "cell_type": "code",
   "execution_count": 24,
   "id": "8d43dcc7",
   "metadata": {},
   "outputs": [
    {
     "name": "stdout",
     "output_type": "stream",
     "text": [
      "0.14285714285714285\n"
     ]
    }
   ],
   "source": [
    "print(Age/height)"
   ]
  },
  {
   "cell_type": "code",
   "execution_count": 32,
   "id": "3b6197ff",
   "metadata": {
    "scrolled": true
   },
   "outputs": [
    {
     "name": "stdout",
     "output_type": "stream",
     "text": [
      "1.618033988749895\n"
     ]
    }
   ],
   "source": [
    "print((1+5**0.5)/2)"
   ]
  },
  {
   "cell_type": "code",
   "execution_count": 34,
   "id": "f2fa6eef",
   "metadata": {},
   "outputs": [
    {
     "data": {
      "text/plain": [
       "'List: Use when you need an ordered sequence of homogenous/heterogenous collections, whose values can be changed later in the program\\n    Tuple: Use when you need an ordered sequemnce of heterogenous collections whose values need not to be changed later\\n        Set: ideal when we dont have'"
      ]
     },
     "execution_count": 34,
     "metadata": {},
     "output_type": "execute_result"
    }
   ],
   "source": [
    "\"\"\"List: Use when you need an ordered sequence of homogenous/heterogenous collections, whose values can be changed later in the program\n",
    "    Tuple: Use when you need an ordered sequemnce of heterogenous collections whose values need not to be changed later\n",
    "        Set: ideal when we dont have\"\"\""
   ]
  },
  {
   "cell_type": "code",
   "execution_count": 36,
   "id": "70e7e268",
   "metadata": {},
   "outputs": [
    {
     "name": "stdout",
     "output_type": "stream",
     "text": [
      "0.5\n",
      "0.5\n",
      "0.5\n",
      "3\n",
      "3.1415926\n",
      "True\n",
      "False\n"
     ]
    }
   ],
   "source": [
    "print(1.0/2.0)\n",
    "print(1/2)\n",
    "print(float(1)/float(2))\n",
    "print(int(3.1415926))\n",
    "print(str(3.1415926))\n",
    "print(bool(1))\n",
    "print(bool(0))"
   ]
  },
  {
   "cell_type": "code",
   "execution_count": 43,
   "id": "a389bbea",
   "metadata": {},
   "outputs": [
    {
     "data": {
      "text/plain": [
       "'3.333333e-01'"
      ]
     },
     "execution_count": 43,
     "metadata": {},
     "output_type": "execute_result"
    }
   ],
   "source": [
    "format(0.3333333,\"1e\")"
   ]
  },
  {
   "cell_type": "code",
   "execution_count": 46,
   "id": "783871de",
   "metadata": {},
   "outputs": [
    {
     "data": {
      "text/plain": [
       "'0.33'"
      ]
     },
     "execution_count": 46,
     "metadata": {},
     "output_type": "execute_result"
    }
   ],
   "source": [
    "format(0.3333333,\".2f\")"
   ]
  },
  {
   "cell_type": "code",
   "execution_count": 50,
   "id": "0e46a2c3",
   "metadata": {},
   "outputs": [
    {
     "data": {
      "text/plain": [
       "'3,333,333'"
      ]
     },
     "execution_count": 50,
     "metadata": {},
     "output_type": "execute_result"
    }
   ],
   "source": [
    "format(3333333,',d')"
   ]
  },
  {
   "cell_type": "code",
   "execution_count": 52,
   "id": "1dd82773",
   "metadata": {},
   "outputs": [
    {
     "name": "stdout",
     "output_type": "stream",
     "text": [
      "u\n",
      "a\n",
      "['u', 'm']\n",
      "6\n"
     ]
    }
   ],
   "source": [
    "li=[\"s\",\"o\",\"u\",\"m\",\"y\",\"a\"]\n",
    "print(li[2])\n",
    "print(li[-1])\n",
    "print(li[2:4])\n",
    "print(len(li))"
   ]
  },
  {
   "cell_type": "markdown",
   "id": "41546c98",
   "metadata": {},
   "source": [
    "#  Tuple"
   ]
  },
  {
   "cell_type": "code",
   "execution_count": 53,
   "id": "46dc5fe1",
   "metadata": {},
   "outputs": [],
   "source": [
    "tli=(\"soumya\",\"subrat\",\"debasish\",\"satya\",\"anwesh\")"
   ]
  },
  {
   "cell_type": "code",
   "execution_count": 54,
   "id": "3ca0a7b4",
   "metadata": {},
   "outputs": [
    {
     "name": "stdout",
     "output_type": "stream",
     "text": [
      "('soumya', 'subrat', 'debasish', 'satya', 'anwesh')\n",
      "5\n",
      "debasish\n",
      "anwesh\n"
     ]
    }
   ],
   "source": [
    "print(tli)\n",
    "print(len(tli))\n",
    "print(tli[2])\n",
    "print(tli[-1])"
   ]
  },
  {
   "cell_type": "code",
   "execution_count": 62,
   "id": "a4a904d4",
   "metadata": {},
   "outputs": [
    {
     "name": "stdout",
     "output_type": "stream",
     "text": [
      "Monty Python\n"
     ]
    }
   ],
   "source": [
    "first_tuple=(\"Monty Python\",50,\"Bakar Street\",5.8)\n",
    "print(first_tuple[0])"
   ]
  },
  {
   "cell_type": "code",
   "execution_count": 63,
   "id": "18e81bd7",
   "metadata": {},
   "outputs": [
    {
     "name": "stdout",
     "output_type": "stream",
     "text": [
      "('Mumbai', 18.9949521, 72.8141853)\n"
     ]
    }
   ],
   "source": [
    "city_tuple=(\"Mumbai\",18.9949521,72.8141853)\n",
    "print(city_tuple)"
   ]
  },
  {
   "cell_type": "code",
   "execution_count": 65,
   "id": "64f1bdd1",
   "metadata": {},
   "outputs": [
    {
     "name": "stdout",
     "output_type": "stream",
     "text": [
      "('Mumbai', 18.9949521, 72.8141853)\n"
     ]
    },
    {
     "data": {
      "text/plain": [
       "'Mumbai'"
      ]
     },
     "execution_count": 65,
     "metadata": {},
     "output_type": "execute_result"
    }
   ],
   "source": [
    "new_tuple=city_tuple\n",
    "print(new_tuple)\n",
    "new_tuple[0]"
   ]
  },
  {
   "cell_type": "code",
   "execution_count": 64,
   "id": "37d950ec",
   "metadata": {},
   "outputs": [
    {
     "name": "stdout",
     "output_type": "stream",
     "text": [
      "('Mumbai', 18.9949521)\n",
      "2\n"
     ]
    }
   ],
   "source": [
    "b=city_tuple[:-1]\n",
    "print(b)\n",
    "print(len(b))"
   ]
  },
  {
   "cell_type": "code",
   "execution_count": 68,
   "id": "fbd4fc79",
   "metadata": {},
   "outputs": [
    {
     "name": "stdout",
     "output_type": "stream",
     "text": [
      "c is:['Mumbai', 18.9949521]\n",
      "now c is:('Mumbai', 18.9949521)\n"
     ]
    }
   ],
   "source": [
    "c=list(b)\n",
    "print(\"c is:{}\".format(c))\n",
    "c=tuple(c)\n",
    "print(\"now c is:{}\".format(c))"
   ]
  },
  {
   "cell_type": "markdown",
   "id": "e9aff05c",
   "metadata": {},
   "source": [
    "# SET"
   ]
  },
  {
   "cell_type": "code",
   "execution_count": 45,
   "id": "7971d6ae",
   "metadata": {},
   "outputs": [],
   "source": [
    "st={\"soumya\",\"subrat\",\"debasish\",\"satya\",\"anwesh\"}"
   ]
  },
  {
   "cell_type": "code",
   "execution_count": 46,
   "id": "6dab3a9c",
   "metadata": {
    "scrolled": false
   },
   "outputs": [
    {
     "name": "stdout",
     "output_type": "stream",
     "text": [
      "soumya\n",
      "subrat\n",
      "satya\n",
      "anwesh\n",
      "debasish\n"
     ]
    }
   ],
   "source": [
    "for x in st:\n",
    "    print(x)"
   ]
  },
  {
   "cell_type": "code",
   "execution_count": 47,
   "id": "587b51fb",
   "metadata": {},
   "outputs": [
    {
     "name": "stdout",
     "output_type": "stream",
     "text": [
      "{'soumya', 'subrat', 'satya', 'diss', 'anwesh', 'debasish'}\n"
     ]
    }
   ],
   "source": [
    "st.add(\"diss\")\n",
    "print(st)"
   ]
  },
  {
   "cell_type": "code",
   "execution_count": 48,
   "id": "c517f91d",
   "metadata": {},
   "outputs": [
    {
     "name": "stdout",
     "output_type": "stream",
     "text": [
      "{'xcv', 'soumya', 'subrat', 'satya', 'sigh', 'diss', 'anwesh', 'debasish'}\n"
     ]
    }
   ],
   "source": [
    "st.update((\"sigh\",\"xcv\"))\n",
    "print(st)"
   ]
  },
  {
   "cell_type": "code",
   "execution_count": 49,
   "id": "da1305cb",
   "metadata": {},
   "outputs": [
    {
     "name": "stdout",
     "output_type": "stream",
     "text": [
      "{'xcv', 'soumya', 'subrat', 'satya', 'sigh', 'anwesh', 'debasish'}\n"
     ]
    }
   ],
   "source": [
    "st.remove(\"diss\")\n",
    "print(st)"
   ]
  },
  {
   "cell_type": "code",
   "execution_count": 50,
   "id": "cc6c1348",
   "metadata": {},
   "outputs": [
    {
     "name": "stdout",
     "output_type": "stream",
     "text": [
      "{'soumya', 'subrat', 'satya', 'sigh', 'anwesh', 'debasish'}\n"
     ]
    }
   ],
   "source": [
    "st.discard(\"xcv\")\n",
    "print(st)"
   ]
  },
  {
   "cell_type": "code",
   "execution_count": 51,
   "id": "fddd704b",
   "metadata": {},
   "outputs": [
    {
     "name": "stdout",
     "output_type": "stream",
     "text": [
      "soumya\n"
     ]
    }
   ],
   "source": [
    "x=st.pop()\n",
    "print(x)"
   ]
  },
  {
   "cell_type": "code",
   "execution_count": 41,
   "id": "8f4552a2",
   "metadata": {},
   "outputs": [
    {
     "name": "stdout",
     "output_type": "stream",
     "text": [
      "{'sigh', 'debasish', 'subrat', 'satya', 'soumya'}\n"
     ]
    }
   ],
   "source": [
    "print(st)"
   ]
  },
  {
   "cell_type": "code",
   "execution_count": 52,
   "id": "bbde6855",
   "metadata": {},
   "outputs": [],
   "source": [
    "del st"
   ]
  },
  {
   "cell_type": "code",
   "execution_count": 61,
   "id": "d55932b2",
   "metadata": {},
   "outputs": [
    {
     "name": "stdout",
     "output_type": "stream",
     "text": [
      "{'g'}\n",
      "{'e'}\n",
      "{'g', 'e'}\n",
      "g\n",
      "e\n"
     ]
    }
   ],
   "source": [
    "str1=\"gabcd\"\n",
    "str2=\"eacbd\"\n",
    "set1=set(str1)\n",
    "set2=set(str2)\n",
    "print(set1.difference(set2))\n",
    "print(set2.difference(set1))\n",
    "print(set1.symmetric_difference(set2))\n",
    "res=set1.symmetric_difference(set2)\n",
    "for i in res:\n",
    "    print(i)"
   ]
  },
  {
   "cell_type": "markdown",
   "id": "e6cdf413",
   "metadata": {},
   "source": [
    "# Task1"
   ]
  },
  {
   "cell_type": "code",
   "execution_count": 1,
   "id": "9bd49205",
   "metadata": {},
   "outputs": [],
   "source": [
    "li=[\"abc\",\"bcd\",\"cde\",\"def\",\"efg\",\"fgh\",\"ghi\",\"hij\",\"ijk\",\"jkl\"]"
   ]
  },
  {
   "cell_type": "code",
   "execution_count": 2,
   "id": "d3a041cf",
   "metadata": {},
   "outputs": [],
   "source": [
    "li2=[\"klm\",\"lmn\",\"mno\",\"nop\",\"opq\"]\n",
    "for i in li2:\n",
    "    li.append(i)"
   ]
  },
  {
   "cell_type": "code",
   "execution_count": 3,
   "id": "17c13f42",
   "metadata": {},
   "outputs": [
    {
     "name": "stdout",
     "output_type": "stream",
     "text": [
      "['abc', 'bcd', 'cde', 'def', 'efg', 'fgh', 'ghi', 'hij', 'ijk', 'jkl', 'klm', 'lmn', 'mno', 'nop', 'opq']\n"
     ]
    }
   ],
   "source": [
    "print(li)"
   ]
  },
  {
   "cell_type": "code",
   "execution_count": 8,
   "id": "dfc5da87",
   "metadata": {},
   "outputs": [],
   "source": [
    "li.insert(8,\"pqr\")"
   ]
  },
  {
   "cell_type": "code",
   "execution_count": 9,
   "id": "52984a34",
   "metadata": {},
   "outputs": [
    {
     "name": "stdout",
     "output_type": "stream",
     "text": [
      "['abc', 'bcd', 'cde', 'def', 'efg', 'fgh', 'ghi', 'hij', 'pqr', 'ijk', 'jkl', 'klm', 'lmn', 'mno', 'nop', 'opq']\n"
     ]
    }
   ],
   "source": [
    "print(li)"
   ]
  },
  {
   "cell_type": "code",
   "execution_count": 11,
   "id": "eaa7130b",
   "metadata": {},
   "outputs": [],
   "source": [
    "li.remove(li[12])"
   ]
  },
  {
   "cell_type": "code",
   "execution_count": 12,
   "id": "dddf3c60",
   "metadata": {},
   "outputs": [
    {
     "name": "stdout",
     "output_type": "stream",
     "text": [
      "['abc', 'bcd', 'cde', 'def', 'efg', 'fgh', 'ghi', 'hij', 'pqr', 'ijk', 'jkl', 'klm', 'mno', 'nop', 'opq']\n"
     ]
    }
   ],
   "source": [
    "print(li)"
   ]
  },
  {
   "cell_type": "code",
   "execution_count": 69,
   "id": "8110c6d1",
   "metadata": {},
   "outputs": [
    {
     "name": "stdout",
     "output_type": "stream",
     "text": [
      "[]\n"
     ]
    }
   ],
   "source": [
    "initial_list=[]\n",
    "print(initial_list)"
   ]
  },
  {
   "cell_type": "code",
   "execution_count": 1,
   "id": "fd013195",
   "metadata": {},
   "outputs": [
    {
     "data": {
      "text/plain": [
       "'R'"
      ]
     },
     "execution_count": 1,
     "metadata": {},
     "output_type": "execute_result"
    }
   ],
   "source": [
    "DA_language=[\"R\",\"Python\",\"SAS\",\"Scala\",42]\n",
    "DA_language[1:3]\n",
    "DA_language[0:2]==DA_language[:-3]\n",
    "DA_language.pop(0)"
   ]
  },
  {
   "cell_type": "code",
   "execution_count": 2,
   "id": "f400f44a",
   "metadata": {},
   "outputs": [
    {
     "name": "stdout",
     "output_type": "stream",
     "text": [
      "['Python', 'Scala', 42]\n"
     ]
    }
   ],
   "source": [
    "DA_language.append(\"R\")\n",
    "DA_language.remove(\"R\")\n",
    "DA_language.remove(\"SAS\")\n",
    "print(DA_language)"
   ]
  },
  {
   "cell_type": "code",
   "execution_count": 3,
   "id": "0a5c92a2",
   "metadata": {},
   "outputs": [],
   "source": [
    "DA_language.append(\"R\")"
   ]
  },
  {
   "cell_type": "code",
   "execution_count": 6,
   "id": "2ffe2ac8",
   "metadata": {},
   "outputs": [
    {
     "name": "stdout",
     "output_type": "stream",
     "text": [
      "['Python', 'Scala', 42, 'R', 'Java']\n"
     ]
    }
   ],
   "source": [
    "new_list = DA_language\n",
    "DA_language.append(\"Java\")\n",
    "print(new_list)"
   ]
  },
  {
   "cell_type": "code",
   "execution_count": 7,
   "id": "6c36af51",
   "metadata": {},
   "outputs": [
    {
     "name": "stdout",
     "output_type": "stream",
     "text": [
      "['Python', 'Scala', 42, 'Java']\n"
     ]
    }
   ],
   "source": [
    "DA_language.remove(\"R\")\n",
    "print(new_list)"
   ]
  },
  {
   "cell_type": "code",
   "execution_count": 8,
   "id": "5425070d",
   "metadata": {},
   "outputs": [
    {
     "name": "stdout",
     "output_type": "stream",
     "text": [
      "1\n",
      "2\n",
      "3\n",
      "4\n",
      "5\n"
     ]
    }
   ],
   "source": [
    "for i in range(1,6):\n",
    "    print(i)"
   ]
  },
  {
   "cell_type": "code",
   "execution_count": 25,
   "id": "5141790f",
   "metadata": {},
   "outputs": [
    {
     "name": "stdout",
     "output_type": "stream",
     "text": [
      "I \n",
      "like \n",
      "python \n",
      "very \n",
      "much"
     ]
    }
   ],
   "source": [
    "mystr=\"I like python very much\"\n",
    "for i in mystr:\n",
    "    if i==\" \":\n",
    "        print(\" \")\n",
    "    else:\n",
    "        print(i,end=\"\")"
   ]
  },
  {
   "cell_type": "code",
   "execution_count": 24,
   "id": "3aab79d4",
   "metadata": {},
   "outputs": [
    {
     "name": "stdout",
     "output_type": "stream",
     "text": [
      "* \n",
      "* * \n",
      "* * * \n",
      "* * * * \n",
      "* * * * * \n",
      "* * * * \n",
      "* * * \n",
      "* * \n",
      "* \n"
     ]
    }
   ],
   "source": [
    "for i in range(1,6):\n",
    "    print(\"* \"*i)\n",
    "for i in range(4,0,-1):\n",
    "    print(\"* \"*i)"
   ]
  },
  {
   "cell_type": "markdown",
   "id": "09beaaa1",
   "metadata": {},
   "source": [
    "# Dictionary"
   ]
  },
  {
   "cell_type": "code",
   "execution_count": null,
   "id": "df8ad123",
   "metadata": {},
   "outputs": [],
   "source": []
  },
  {
   "cell_type": "code",
   "execution_count": 33,
   "id": "ef250a5b",
   "metadata": {},
   "outputs": [
    {
     "name": "stdout",
     "output_type": "stream",
     "text": [
      "{'name': 'Soumya', 'College': 'NIST', 'Branch': 'CSE', 'Year': '2021'}\n"
     ]
    }
   ],
   "source": [
    "d={\"name\":\"Soumya\",\n",
    "    \"College\":\"NIST\",\n",
    "  \"Branch\":\"CSE\",\n",
    "      \"Year\":\"2021\"}\n",
    "print(d)"
   ]
  },
  {
   "cell_type": "code",
   "execution_count": 34,
   "id": "8291469d",
   "metadata": {},
   "outputs": [
    {
     "name": "stdout",
     "output_type": "stream",
     "text": [
      "CSE\n"
     ]
    }
   ],
   "source": [
    "print(d[\"Branch\"])"
   ]
  },
  {
   "cell_type": "code",
   "execution_count": 35,
   "id": "95d4e4c2",
   "metadata": {},
   "outputs": [
    {
     "data": {
      "text/plain": [
       "'CSE'"
      ]
     },
     "execution_count": 35,
     "metadata": {},
     "output_type": "execute_result"
    }
   ],
   "source": [
    "d.get(\"Branch\")"
   ]
  },
  {
   "cell_type": "code",
   "execution_count": 36,
   "id": "a642db34",
   "metadata": {},
   "outputs": [],
   "source": [
    "d[\"DOB\"]=\"28112003\""
   ]
  },
  {
   "cell_type": "code",
   "execution_count": 37,
   "id": "4b117379",
   "metadata": {},
   "outputs": [
    {
     "name": "stdout",
     "output_type": "stream",
     "text": [
      "{'name': 'Soumya', 'College': 'NIST', 'Branch': 'CSE', 'Year': '2021', 'DOB': '28112003'}\n"
     ]
    }
   ],
   "source": [
    "print(d)"
   ]
  },
  {
   "cell_type": "code",
   "execution_count": 38,
   "id": "ac89a38b",
   "metadata": {},
   "outputs": [
    {
     "name": "stdout",
     "output_type": "stream",
     "text": [
      "{'name': 'Soumya', 'College': 'NIST', 'Branch': 'CSE', 'Year': '2021', 'DOB': '28112003'}\n"
     ]
    }
   ],
   "source": [
    "d2=d.copy()\n",
    "print(d2)"
   ]
  },
  {
   "cell_type": "code",
   "execution_count": 40,
   "id": "1eda4828",
   "metadata": {},
   "outputs": [
    {
     "data": {
      "text/plain": [
       "'Soumya'"
      ]
     },
     "execution_count": 40,
     "metadata": {},
     "output_type": "execute_result"
    }
   ],
   "source": [
    "d.pop(\"name\")"
   ]
  },
  {
   "cell_type": "code",
   "execution_count": 41,
   "id": "e1c71e1b",
   "metadata": {},
   "outputs": [
    {
     "name": "stdout",
     "output_type": "stream",
     "text": [
      "{'College': 'NIST', 'Branch': 'CSE', 'Year': '2021', 'DOB': '28112003'}\n"
     ]
    }
   ],
   "source": [
    "print(d)"
   ]
  },
  {
   "cell_type": "code",
   "execution_count": 42,
   "id": "1d25a5b5",
   "metadata": {},
   "outputs": [
    {
     "name": "stdout",
     "output_type": "stream",
     "text": [
      "{'name': 'Soumya', 'College': 'NIST', 'Branch': 'CSE', 'Year': '2021', 'DOB': '28112003'}\n"
     ]
    }
   ],
   "source": [
    "print(d2)"
   ]
  },
  {
   "cell_type": "code",
   "execution_count": 10,
   "id": "66b7ff07",
   "metadata": {},
   "outputs": [],
   "source": [
    "del d[\"Branch\"]"
   ]
  },
  {
   "cell_type": "code",
   "execution_count": 12,
   "id": "81e97c48",
   "metadata": {},
   "outputs": [],
   "source": [
    "d.clear()"
   ]
  },
  {
   "cell_type": "code",
   "execution_count": 13,
   "id": "a461bce1",
   "metadata": {},
   "outputs": [
    {
     "name": "stdout",
     "output_type": "stream",
     "text": [
      "{}\n"
     ]
    }
   ],
   "source": [
    "print(d)"
   ]
  },
  {
   "cell_type": "code",
   "execution_count": null,
   "id": "16284c63",
   "metadata": {},
   "outputs": [],
   "source": []
  }
 ],
 "metadata": {
  "kernelspec": {
   "display_name": "Python 3 (ipykernel)",
   "language": "python",
   "name": "python3"
  },
  "language_info": {
   "codemirror_mode": {
    "name": "ipython",
    "version": 3
   },
   "file_extension": ".py",
   "mimetype": "text/x-python",
   "name": "python",
   "nbconvert_exporter": "python",
   "pygments_lexer": "ipython3",
   "version": "3.11.5"
  }
 },
 "nbformat": 4,
 "nbformat_minor": 5
}
